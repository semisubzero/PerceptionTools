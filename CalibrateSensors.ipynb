{
 "cells": [
  {
   "cell_type": "code",
   "execution_count": null,
   "metadata": {},
   "outputs": [],
   "source": [
    "\"\"\"\n",
    "Sensor calibration script\n",
    "\n",
    "Required files:\n",
    "\n",
    "- image file (.png)\n",
    "- lidar file (.pcd)\n",
    "- calib file (.json camera intrinsic)\n",
    "- calib file (.json sensor extrinsics)\n",
    "\"\"\"\n",
    "\n",
    "import os\n",
    "\n"
   ]
  }
 ],
 "metadata": {
  "language_info": {
   "name": "python"
  }
 },
 "nbformat": 4,
 "nbformat_minor": 2
}
