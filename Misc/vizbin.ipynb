{
 "cells": [
  {
   "cell_type": "code",
   "execution_count": 8,
   "metadata": {},
   "outputs": [
    {
     "name": "stdout",
     "output_type": "stream",
     "text": [
      "[-2.6248430e+01  3.8540568e-03  5.3796768e+00 ... -7.7511035e-02\n",
      " -2.3694139e+00  4.0000000e+00]\n",
      "[[-2.62484303e+01  3.85405682e-03  5.37967682e+00]\n",
      " [-2.64047375e+01  1.65902689e-01  5.41138411e+00]\n",
      " [-2.64884892e+01  3.28978240e-01  5.42862511e+00]\n",
      " ...\n",
      " [-1.25961895e+01 -2.31022522e-01 -2.33565784e+00]\n",
      " [-1.26926222e+01 -1.54899418e-01 -2.35395026e+00]\n",
      " [-1.27738609e+01 -7.75110349e-02 -2.36941385e+00]]\n",
      "Load a ply point cloud, print it, and render it\n",
      "PointCloud with 131072 points.\n",
      "[[-2.62484303e+01  3.85405682e-03  5.37967682e+00]\n",
      " [-2.64047375e+01  1.65902689e-01  5.41138411e+00]\n",
      " [-2.64884892e+01  3.28978240e-01  5.42862511e+00]\n",
      " ...\n",
      " [-1.25961895e+01 -2.31022522e-01 -2.33565784e+00]\n",
      " [-1.26926222e+01 -1.54899418e-01 -2.35395026e+00]\n",
      " [-1.27738609e+01 -7.75110349e-02 -2.36941385e+00]]\n"
     ]
    }
   ],
   "source": [
    "import open3d as o3d\n",
    "import numpy as np\n",
    "\n",
    "# Load binary point cloud\n",
    "bin_pcd = np.fromfile(\"../DriveData/2024-09-09/Export/pointcloud/data/0000001280.bin\", dtype=np.float32)\n",
    "print(bin_pcd)\n",
    "\n",
    "# Reshape and drop reflection values\n",
    "points = bin_pcd.reshape((-1, 4))[:, 0:3]\n",
    "#points = bin_pcd\n",
    "print(points)\n",
    "\n",
    "# Convert to Open3D point cloud\n",
    "o3d_pcd = o3d.geometry.PointCloud(o3d.utility.Vector3dVector(points))\n",
    "\n",
    "# Save to whatever format you like\n",
    "o3d.io.write_point_cloud(\"pointcloud.pcd\", o3d_pcd)\n",
    "\n",
    "print(\"Load a ply point cloud, print it, and render it\")\n",
    "pcd = o3d.io.read_point_cloud('pointcloud.pcd')\n",
    "print(pcd)\n",
    "print(np.asarray(points))\n",
    "o3d.visualization.draw_geometries([pcd])\n"
   ]
  }
 ],
 "metadata": {
  "kernelspec": {
   "display_name": ".venv",
   "language": "python",
   "name": "python3"
  },
  "language_info": {
   "codemirror_mode": {
    "name": "ipython",
    "version": 3
   },
   "file_extension": ".py",
   "mimetype": "text/x-python",
   "name": "python",
   "nbconvert_exporter": "python",
   "pygments_lexer": "ipython3",
   "version": "3.10.12"
  }
 },
 "nbformat": 4,
 "nbformat_minor": 2
}
