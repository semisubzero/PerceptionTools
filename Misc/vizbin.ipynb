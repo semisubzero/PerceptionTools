{
 "cells": [
  {
   "cell_type": "code",
   "execution_count": 1,
   "metadata": {},
   "outputs": [
    {
     "name": "stdout",
     "output_type": "stream",
     "text": [
      "Jupyter environment detected. Enabling Open3D WebVisualizer.\n",
      "[Open3D INFO] WebRTC GUI backend enabled.\n",
      "[Open3D INFO] WebRTCWindowSystem: HTTP handshake server disabled.\n",
      "[-1.5505795e+01  1.8619292e-03  3.2077272e+00 ... -5.7222344e-02\n",
      " -1.7355924e+00  1.0800000e+02]\n",
      "[[-1.5505795e+01  1.8619292e-03  3.2077272e+00]\n",
      " [-8.3376694e+00  5.1692646e-02  1.7585057e+00]\n",
      " [-8.3724785e+00  1.0329021e-01  1.7656398e+00]\n",
      " ...\n",
      " [-9.4865408e+00 -1.7374042e-01 -1.7384211e+00]\n",
      " [-9.4756441e+00 -1.1538409e-01 -1.7361580e+00]\n",
      " [-9.4732275e+00 -5.7222344e-02 -1.7355924e+00]]\n",
      "Load a ply point cloud, print it, and render it\n",
      "PointCloud with 131072 points.\n",
      "[[-1.5505795e+01  1.8619292e-03  3.2077272e+00]\n",
      " [-8.3376694e+00  5.1692646e-02  1.7585057e+00]\n",
      " [-8.3724785e+00  1.0329021e-01  1.7656398e+00]\n",
      " ...\n",
      " [-9.4865408e+00 -1.7374042e-01 -1.7384211e+00]\n",
      " [-9.4756441e+00 -1.1538409e-01 -1.7361580e+00]\n",
      " [-9.4732275e+00 -5.7222344e-02 -1.7355924e+00]]\n"
     ]
    }
   ],
   "source": [
    "import open3d as o3d\n",
    "import numpy as np\n",
    "\n",
    "# Load binary point cloud\n",
    "bin_pcd = np.fromfile(\"./bin/678.bin\", dtype=np.float32)\n",
    "print(bin_pcd)\n",
    "\n",
    "# Reshape and drop reflection values\n",
    "points = bin_pcd.reshape((-1, 4))[:, 0:3]\n",
    "#points = bin_pcd\n",
    "print(points)\n",
    "\n",
    "# Convert to Open3D point cloud\n",
    "o3d_pcd = o3d.geometry.PointCloud(o3d.utility.Vector3dVector(points))\n",
    "\n",
    "# Save to whatever format you like\n",
    "o3d.io.write_point_cloud(\"pointcloud.pcd\", o3d_pcd)\n",
    "\n",
    "print(\"Load a ply point cloud, print it, and render it\")\n",
    "pcd = o3d.io.read_point_cloud('pointcloud.pcd')\n",
    "print(pcd)\n",
    "print(np.asarray(points))\n",
    "o3d.visualization.draw_geometries([pcd])\n"
   ]
  }
 ],
 "metadata": {
  "kernelspec": {
   "display_name": ".venv",
   "language": "python",
   "name": "python3"
  },
  "language_info": {
   "codemirror_mode": {
    "name": "ipython",
    "version": 3
   },
   "file_extension": ".py",
   "mimetype": "text/x-python",
   "name": "python",
   "nbconvert_exporter": "python",
   "pygments_lexer": "ipython3",
   "version": "3.10.12"
  }
 },
 "nbformat": 4,
 "nbformat_minor": 2
}
